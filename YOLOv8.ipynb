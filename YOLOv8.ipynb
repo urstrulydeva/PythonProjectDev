{
  "cells": [
    {
      "cell_type": "markdown",
      "metadata": {
        "id": "view-in-github",
        "colab_type": "text"
      },
      "source": [
        "<a href=\"https://colab.research.google.com/github/urstrulydeva/PythonProjectDev/blob/main/YOLOv8.ipynb\" target=\"_parent\"><img src=\"https://colab.research.google.com/assets/colab-badge.svg\" alt=\"Open In Colab\"/></a>"
      ]
    },
    {
      "cell_type": "code",
      "execution_count": null,
      "metadata": {
        "colab": {
          "base_uri": "https://localhost:8080/"
        },
        "id": "Y8cDtxLIBHgQ",
        "outputId": "9cf2716f-454f-4f4d-aa71-129fb1e61d62"
      },
      "outputs": [
        {
          "output_type": "stream",
          "name": "stdout",
          "text": [
            "Wed Oct 11 06:02:55 2023       \n",
            "+-----------------------------------------------------------------------------+\n",
            "| NVIDIA-SMI 525.105.17   Driver Version: 525.105.17   CUDA Version: 12.0     |\n",
            "|-------------------------------+----------------------+----------------------+\n",
            "| GPU  Name        Persistence-M| Bus-Id        Disp.A | Volatile Uncorr. ECC |\n",
            "| Fan  Temp  Perf  Pwr:Usage/Cap|         Memory-Usage | GPU-Util  Compute M. |\n",
            "|                               |                      |               MIG M. |\n",
            "|===============================+======================+======================|\n",
            "|   0  Tesla T4            Off  | 00000000:00:04.0 Off |                    0 |\n",
            "| N/A   38C    P8     9W /  70W |      0MiB / 15360MiB |      0%      Default |\n",
            "|                               |                      |                  N/A |\n",
            "+-------------------------------+----------------------+----------------------+\n",
            "                                                                               \n",
            "+-----------------------------------------------------------------------------+\n",
            "| Processes:                                                                  |\n",
            "|  GPU   GI   CI        PID   Type   Process name                  GPU Memory |\n",
            "|        ID   ID                                                   Usage      |\n",
            "|=============================================================================|\n",
            "|  No running processes found                                                 |\n",
            "+-----------------------------------------------------------------------------+\n"
          ]
        }
      ],
      "source": [
        "!nvidia-smi"
      ]
    },
    {
      "cell_type": "code",
      "execution_count": null,
      "metadata": {
        "colab": {
          "base_uri": "https://localhost:8080/"
        },
        "id": "CjpPg4mGKc1v",
        "outputId": "2b656e48-8754-41bf-9480-844b6308ddd6"
      },
      "outputs": [
        {
          "output_type": "stream",
          "name": "stdout",
          "text": [
            "/content\n"
          ]
        }
      ],
      "source": [
        "import os\n",
        "HOME = os.getcwd()\n",
        "print(HOME)"
      ]
    },
    {
      "cell_type": "code",
      "execution_count": null,
      "metadata": {
        "colab": {
          "base_uri": "https://localhost:8080/"
        },
        "id": "tdSMcABDNKW-",
        "outputId": "93b0d2e7-b278-4701-d1a2-ae9cf0f1c91f"
      },
      "outputs": [
        {
          "output_type": "stream",
          "name": "stderr",
          "text": [
            "Ultralytics YOLOv8.0.196 🚀 Python-3.10.12 torch-2.0.1+cu118 CUDA:0 (Tesla T4, 15102MiB)\n",
            "Setup complete ✅ (2 CPUs, 12.7 GB RAM, 26.5/78.2 GB disk)\n"
          ]
        }
      ],
      "source": [
        "# Pip install method (recommended)\n",
        "\n",
        "!pip install ultralytics\n",
        "\n",
        "from IPython import display\n",
        "display.clear_output()\n",
        "\n",
        "import ultralytics\n",
        "ultralytics.checks()"
      ]
    },
    {
      "cell_type": "code",
      "execution_count": null,
      "metadata": {
        "id": "iVvaIYEEPOty"
      },
      "outputs": [],
      "source": [
        "# Git clone method (for development)\n",
        "\n",
        "# %cd {HOME}\n",
        "# !git clone github.com/ultralytics/ultralytics\n",
        "# %cd {HOME}/ultralytics\n",
        "# !pip install -e .\n",
        "\n",
        "# from IPython import display\n",
        "# display.clear_output()\n",
        "\n",
        "# import ultralytics\n",
        "# ultralytics.checks()"
      ]
    },
    {
      "cell_type": "code",
      "execution_count": null,
      "metadata": {
        "id": "VOEYrlBoP9-E"
      },
      "outputs": [],
      "source": [
        "from ultralytics import YOLO\n",
        "\n",
        "from IPython.display import display, Image"
      ]
    },
    {
      "cell_type": "code",
      "execution_count": null,
      "metadata": {
        "colab": {
          "base_uri": "https://localhost:8080/"
        },
        "id": "FDbMt_M6PiXb",
        "outputId": "cd9f6a03-e8e4-4fc1-da07-21ce8dfcbc85"
      },
      "outputs": [
        {
          "name": "stdout",
          "output_type": "stream",
          "text": [
            "/content\n",
            "Downloading https://media.roboflow.com/notebooks/examples/dog.jpeg to dog.jpeg...\n",
            "100% 104k/104k [00:00<00:00, 46.5MB/s]\n",
            "Ultralytics YOLOv8.0.9 🚀 Python-3.8.10 torch-1.13.1+cu116 CUDA:0 (Tesla T4, 15110MiB)\n",
            "Downloading https://github.com/ultralytics/assets/releases/download/v0.0.0/yolov8n-cls.pt to yolov8n-cls.pt...\n",
            "100% 5.28M/5.28M [00:02<00:00, 1.86MB/s]\n",
            "\n",
            "Fusing layers... \n",
            "YOLOv8n-cls summary: 73 layers, 2715880 parameters, 0 gradients, 4.3 GFLOPs\n",
            "Downloading https://ultralytics.com/assets/Arial.ttf to /root/.config/Ultralytics/Arial.ttf...\n",
            "image 1/1 /content/dog.jpeg: 640x384 n01990800 0.00, n03207941 0.00, n02096437 0.00, n03461385 0.00, n03355925 0.00, 6.6ms\n",
            "Speed: 1.4ms pre-process, 6.6ms inference, 2.4ms postprocess per image at shape (1, 3, 640, 640)\n",
            "Results saved to \u001b[1mruns/classify/predict\u001b[0m\n"
          ]
        }
      ],
      "source": [
        "%cd {HOME}\n",
        "!yolo task=classify mode=predict model=yolov8n-cls.pt conf=0.25 source='https://media.roboflow.com/notebooks/examples/dog.jpeg'"
      ]
    },
    {
      "cell_type": "code",
      "execution_count": null,
      "metadata": {
        "colab": {
          "base_uri": "https://localhost:8080/",
          "height": 1000
        },
        "id": "BSd93ZJzZZKt",
        "outputId": "7b268150-e8f1-4022-b43e-7675befa3f9e"
      },
      "outputs": [
        {
          "output_type": "stream",
          "name": "stdout",
          "text": [
            "/content/datasets\n",
            "Collecting roboflow\n",
            "  Downloading roboflow-1.1.7-py3-none-any.whl (58 kB)\n",
            "\u001b[2K     \u001b[90m━━━━━━━━━━━━━━━━━━━━━━━━━━━━━━━━━━━━━━━━\u001b[0m \u001b[32m58.8/58.8 kB\u001b[0m \u001b[31m2.1 MB/s\u001b[0m eta \u001b[36m0:00:00\u001b[0m\n",
            "\u001b[?25hCollecting certifi==2022.12.7 (from roboflow)\n",
            "  Downloading certifi-2022.12.7-py3-none-any.whl (155 kB)\n",
            "\u001b[2K     \u001b[90m━━━━━━━━━━━━━━━━━━━━━━━━━━━━━━━━━━━━━━━\u001b[0m \u001b[32m155.3/155.3 kB\u001b[0m \u001b[31m7.0 MB/s\u001b[0m eta \u001b[36m0:00:00\u001b[0m\n",
            "\u001b[?25hCollecting chardet==4.0.0 (from roboflow)\n",
            "  Downloading chardet-4.0.0-py2.py3-none-any.whl (178 kB)\n",
            "\u001b[2K     \u001b[90m━━━━━━━━━━━━━━━━━━━━━━━━━━━━━━━━━━━━━━━\u001b[0m \u001b[32m178.7/178.7 kB\u001b[0m \u001b[31m8.0 MB/s\u001b[0m eta \u001b[36m0:00:00\u001b[0m\n",
            "\u001b[?25hCollecting cycler==0.10.0 (from roboflow)\n",
            "  Downloading cycler-0.10.0-py2.py3-none-any.whl (6.5 kB)\n",
            "Collecting idna==2.10 (from roboflow)\n",
            "  Downloading idna-2.10-py2.py3-none-any.whl (58 kB)\n",
            "\u001b[2K     \u001b[90m━━━━━━━━━━━━━━━━━━━━━━━━━━━━━━━━━━━━━━━━\u001b[0m \u001b[32m58.8/58.8 kB\u001b[0m \u001b[31m7.8 MB/s\u001b[0m eta \u001b[36m0:00:00\u001b[0m\n",
            "\u001b[?25hRequirement already satisfied: kiwisolver>=1.3.1 in /usr/local/lib/python3.10/dist-packages (from roboflow) (1.4.5)\n",
            "Requirement already satisfied: matplotlib in /usr/local/lib/python3.10/dist-packages (from roboflow) (3.7.1)\n",
            "Requirement already satisfied: numpy>=1.18.5 in /usr/local/lib/python3.10/dist-packages (from roboflow) (1.23.5)\n",
            "Collecting opencv-python-headless==4.8.0.74 (from roboflow)\n",
            "  Downloading opencv_python_headless-4.8.0.74-cp37-abi3-manylinux_2_17_x86_64.manylinux2014_x86_64.whl (49.1 MB)\n",
            "\u001b[2K     \u001b[90m━━━━━━━━━━━━━━━━━━━━━━━━━━━━━━━━━━━━━━━━\u001b[0m \u001b[32m49.1/49.1 MB\u001b[0m \u001b[31m18.4 MB/s\u001b[0m eta \u001b[36m0:00:00\u001b[0m\n",
            "\u001b[?25hRequirement already satisfied: Pillow>=7.1.2 in /usr/local/lib/python3.10/dist-packages (from roboflow) (9.4.0)\n",
            "Collecting pyparsing==2.4.7 (from roboflow)\n",
            "  Downloading pyparsing-2.4.7-py2.py3-none-any.whl (67 kB)\n",
            "\u001b[2K     \u001b[90m━━━━━━━━━━━━━━━━━━━━━━━━━━━━━━━━━━━━━━━━\u001b[0m \u001b[32m67.8/67.8 kB\u001b[0m \u001b[31m10.0 MB/s\u001b[0m eta \u001b[36m0:00:00\u001b[0m\n",
            "\u001b[?25hRequirement already satisfied: python-dateutil in /usr/local/lib/python3.10/dist-packages (from roboflow) (2.8.2)\n",
            "Collecting python-dotenv (from roboflow)\n",
            "  Downloading python_dotenv-1.0.0-py3-none-any.whl (19 kB)\n",
            "Requirement already satisfied: requests in /usr/local/lib/python3.10/dist-packages (from roboflow) (2.31.0)\n",
            "Requirement already satisfied: six in /usr/local/lib/python3.10/dist-packages (from roboflow) (1.16.0)\n",
            "Collecting supervision (from roboflow)\n",
            "  Downloading supervision-0.15.0-py3-none-any.whl (69 kB)\n",
            "\u001b[2K     \u001b[90m━━━━━━━━━━━━━━━━━━━━━━━━━━━━━━━━━━━━━━━━\u001b[0m \u001b[32m69.0/69.0 kB\u001b[0m \u001b[31m10.5 MB/s\u001b[0m eta \u001b[36m0:00:00\u001b[0m\n",
            "\u001b[?25hRequirement already satisfied: urllib3>=1.26.6 in /usr/local/lib/python3.10/dist-packages (from roboflow) (2.0.6)\n",
            "Requirement already satisfied: tqdm>=4.41.0 in /usr/local/lib/python3.10/dist-packages (from roboflow) (4.66.1)\n",
            "Requirement already satisfied: PyYAML>=5.3.1 in /usr/local/lib/python3.10/dist-packages (from roboflow) (6.0.1)\n",
            "Collecting requests-toolbelt (from roboflow)\n",
            "  Downloading requests_toolbelt-1.0.0-py2.py3-none-any.whl (54 kB)\n",
            "\u001b[2K     \u001b[90m━━━━━━━━━━━━━━━━━━━━━━━━━━━━━━━━━━━━━━━━\u001b[0m \u001b[32m54.5/54.5 kB\u001b[0m \u001b[31m8.3 MB/s\u001b[0m eta \u001b[36m0:00:00\u001b[0m\n",
            "\u001b[?25hRequirement already satisfied: contourpy>=1.0.1 in /usr/local/lib/python3.10/dist-packages (from matplotlib->roboflow) (1.1.1)\n",
            "Requirement already satisfied: fonttools>=4.22.0 in /usr/local/lib/python3.10/dist-packages (from matplotlib->roboflow) (4.43.1)\n",
            "Requirement already satisfied: packaging>=20.0 in /usr/local/lib/python3.10/dist-packages (from matplotlib->roboflow) (23.2)\n",
            "Requirement already satisfied: charset-normalizer<4,>=2 in /usr/local/lib/python3.10/dist-packages (from requests->roboflow) (3.3.0)\n",
            "Requirement already satisfied: scipy<2.0.0,>=1.9.0 in /usr/local/lib/python3.10/dist-packages (from supervision->roboflow) (1.11.3)\n",
            "Installing collected packages: python-dotenv, pyparsing, opencv-python-headless, idna, cycler, chardet, certifi, supervision, requests-toolbelt, roboflow\n",
            "  Attempting uninstall: pyparsing\n",
            "    Found existing installation: pyparsing 3.1.1\n",
            "    Uninstalling pyparsing-3.1.1:\n",
            "      Successfully uninstalled pyparsing-3.1.1\n",
            "  Attempting uninstall: opencv-python-headless\n",
            "    Found existing installation: opencv-python-headless 4.8.1.78\n",
            "    Uninstalling opencv-python-headless-4.8.1.78:\n",
            "      Successfully uninstalled opencv-python-headless-4.8.1.78\n",
            "  Attempting uninstall: idna\n",
            "    Found existing installation: idna 3.4\n",
            "    Uninstalling idna-3.4:\n",
            "      Successfully uninstalled idna-3.4\n",
            "  Attempting uninstall: cycler\n",
            "    Found existing installation: cycler 0.12.0\n",
            "    Uninstalling cycler-0.12.0:\n",
            "      Successfully uninstalled cycler-0.12.0\n",
            "  Attempting uninstall: chardet\n",
            "    Found existing installation: chardet 5.2.0\n",
            "    Uninstalling chardet-5.2.0:\n",
            "      Successfully uninstalled chardet-5.2.0\n",
            "  Attempting uninstall: certifi\n",
            "    Found existing installation: certifi 2023.7.22\n",
            "    Uninstalling certifi-2023.7.22:\n",
            "      Successfully uninstalled certifi-2023.7.22\n",
            "Successfully installed certifi-2022.12.7 chardet-4.0.0 cycler-0.10.0 idna-2.10 opencv-python-headless-4.8.0.74 pyparsing-2.4.7 python-dotenv-1.0.0 requests-toolbelt-1.0.0 roboflow-1.1.7 supervision-0.15.0\n"
          ]
        },
        {
          "output_type": "display_data",
          "data": {
            "application/vnd.colab-display-data+json": {
              "pip_warning": {
                "packages": [
                  "certifi",
                  "chardet",
                  "cv2",
                  "cycler",
                  "idna",
                  "pyparsing"
                ]
              }
            }
          },
          "metadata": {}
        },
        {
          "output_type": "stream",
          "name": "stdout",
          "text": [
            "loading Roboflow workspace...\n",
            "loading Roboflow project...\n"
          ]
        },
        {
          "output_type": "stream",
          "name": "stderr",
          "text": [
            "Downloading Dataset Version Zip in Fishes-classification-1 to folder:: 100%|██████████| 11217/11217 [00:00<00:00, 46271.22it/s]"
          ]
        },
        {
          "output_type": "stream",
          "name": "stdout",
          "text": [
            "\n"
          ]
        },
        {
          "output_type": "stream",
          "name": "stderr",
          "text": [
            "\n",
            "Extracting Dataset Version Zip to Fishes-classification-1 in folder:: 100%|██████████| 669/669 [00:00<00:00, 8512.36it/s]\n"
          ]
        }
      ],
      "source": [
        "!mkdir {HOME}/datasets\n",
        "%cd {HOME}/datasets\n",
        "!pip install roboflow\n",
        "\n",
        "from roboflow import Roboflow\n",
        "rf = Roboflow(api_key=\"YJjGlnDbaFulCEiBuplI\")\n",
        "project = rf.workspace(\"my-project-mi6a0\").project(\"fishes-classification\")\n",
        "dataset = project.version(1).download(\"folder\")\n"
      ]
    },
    {
      "cell_type": "code",
      "execution_count": null,
      "metadata": {
        "colab": {
          "base_uri": "https://localhost:8080/"
        },
        "id": "D2YkphuiaE7_",
        "outputId": "88275d63-2490-476f-b48e-0f3f6eea3116"
      },
      "outputs": [
        {
          "output_type": "stream",
          "name": "stdout",
          "text": [
            "/content\n",
            "Downloading https://github.com/ultralytics/assets/releases/download/v0.0.0/yolov8n-cls.pt to 'yolov8n-cls.pt'...\n",
            "100% 5.28M/5.28M [00:00<00:00, 68.6MB/s]\n",
            "Ultralytics YOLOv8.0.196 🚀 Python-3.10.12 torch-2.0.1+cu118 CUDA:0 (Tesla T4, 15102MiB)\n",
            "\u001b[34m\u001b[1mengine/trainer: \u001b[0mtask=classify, mode=train, model=yolov8n-cls.pt, data=/content/datasets/Fishes-classification-1, epochs=3, patience=50, batch=16, imgsz=128, save=True, save_period=-1, cache=False, device=None, workers=8, project=None, name=None, exist_ok=False, pretrained=True, optimizer=auto, verbose=True, seed=0, deterministic=True, single_cls=False, rect=False, cos_lr=False, close_mosaic=10, resume=False, amp=True, fraction=1.0, profile=False, freeze=None, overlap_mask=True, mask_ratio=4, dropout=0.0, val=True, split=val, save_json=False, save_hybrid=False, conf=None, iou=0.7, max_det=300, half=False, dnn=False, plots=True, source=None, show=False, save_txt=False, save_conf=False, save_crop=False, show_labels=True, show_conf=True, vid_stride=1, stream_buffer=False, line_width=None, visualize=False, augment=False, agnostic_nms=False, classes=None, retina_masks=False, boxes=True, format=torchscript, keras=False, optimize=False, int8=False, dynamic=False, simplify=False, opset=None, workspace=4, nms=False, lr0=0.01, lrf=0.01, momentum=0.937, weight_decay=0.0005, warmup_epochs=3.0, warmup_momentum=0.8, warmup_bias_lr=0.1, box=7.5, cls=0.5, dfl=1.5, pose=12.0, kobj=1.0, label_smoothing=0.0, nbs=64, hsv_h=0.015, hsv_s=0.7, hsv_v=0.4, degrees=0.0, translate=0.1, scale=0.5, shear=0.0, perspective=0.0, flipud=0.0, fliplr=0.5, mosaic=1.0, mixup=0.0, copy_paste=0.0, cfg=None, tracker=botsort.yaml, save_dir=runs/classify/train\n",
            "\u001b[34m\u001b[1mtrain:\u001b[0m /content/datasets/Fishes-classification-1/train... found 451 images in 6 classes ✅ \n",
            "\u001b[34m\u001b[1mval:\u001b[0m None...\n",
            "\u001b[34m\u001b[1mtest:\u001b[0m /content/datasets/Fishes-classification-1/test... found 66 images in 6 classes ✅ \n",
            "Overriding model.yaml nc=1000 with nc=6\n",
            "\n",
            "                   from  n    params  module                                       arguments                     \n",
            "  0                  -1  1       464  ultralytics.nn.modules.conv.Conv             [3, 16, 3, 2]                 \n",
            "  1                  -1  1      4672  ultralytics.nn.modules.conv.Conv             [16, 32, 3, 2]                \n",
            "  2                  -1  1      7360  ultralytics.nn.modules.block.C2f             [32, 32, 1, True]             \n",
            "  3                  -1  1     18560  ultralytics.nn.modules.conv.Conv             [32, 64, 3, 2]                \n",
            "  4                  -1  2     49664  ultralytics.nn.modules.block.C2f             [64, 64, 2, True]             \n",
            "  5                  -1  1     73984  ultralytics.nn.modules.conv.Conv             [64, 128, 3, 2]               \n",
            "  6                  -1  2    197632  ultralytics.nn.modules.block.C2f             [128, 128, 2, True]           \n",
            "  7                  -1  1    295424  ultralytics.nn.modules.conv.Conv             [128, 256, 3, 2]              \n",
            "  8                  -1  1    460288  ultralytics.nn.modules.block.C2f             [256, 256, 1, True]           \n",
            "  9                  -1  1    337926  ultralytics.nn.modules.head.Classify         [256, 6]                      \n",
            "YOLOv8n-cls summary: 99 layers, 1445974 parameters, 1445974 gradients, 3.4 GFLOPs\n",
            "Transferred 156/158 items from pretrained weights\n",
            "\u001b[34m\u001b[1mTensorBoard: \u001b[0mStart with 'tensorboard --logdir runs/classify/train', view at http://localhost:6006/\n",
            "\u001b[34m\u001b[1mAMP: \u001b[0mrunning Automatic Mixed Precision (AMP) checks with YOLOv8n...\n",
            "Downloading https://github.com/ultralytics/assets/releases/download/v0.0.0/yolov8n.pt to 'yolov8n.pt'...\n",
            "100% 6.23M/6.23M [00:00<00:00, 126MB/s]\n",
            "\u001b[34m\u001b[1mAMP: \u001b[0mchecks passed ✅\n",
            "\u001b[34m\u001b[1mtrain: \u001b[0mScanning /content/datasets/Fishes-classification-1/train... 451 images, 0 corrupt: 100% 451/451 [00:00<00:00, 2896.22it/s]\n",
            "\u001b[34m\u001b[1mtrain: \u001b[0mNew cache created: /content/datasets/Fishes-classification-1/train.cache\n",
            "\u001b[34m\u001b[1malbumentations: \u001b[0mRandomResizedCrop(p=1.0, height=128, width=128, scale=(0.5, 1.0), ratio=(0.75, 1.3333333333333333), interpolation=1), HorizontalFlip(p=0.5), ColorJitter(p=0.5, brightness=[0.6, 1.4], contrast=[0.6, 1.4], saturation=[0.30000000000000004, 1.7], hue=[-0.015, 0.015]), Normalize(p=1.0, mean=(0.0, 0.0, 0.0), std=(1.0, 1.0, 1.0), max_pixel_value=255.0), ToTensorV2(always_apply=True, p=1.0, transpose_mask=False)\n",
            "\u001b[34m\u001b[1mval: \u001b[0mScanning /content/datasets/Fishes-classification-1/test... 66 images, 0 corrupt: 100% 66/66 [00:00<00:00, 5204.44it/s]\n",
            "\u001b[34m\u001b[1mval: \u001b[0mNew cache created: /content/datasets/Fishes-classification-1/test.cache\n",
            "\u001b[34m\u001b[1moptimizer:\u001b[0m 'optimizer=auto' found, ignoring 'lr0=0.01' and 'momentum=0.937' and determining best 'optimizer', 'lr0' and 'momentum' automatically... \n",
            "\u001b[34m\u001b[1moptimizer:\u001b[0m AdamW(lr=0.000714, momentum=0.9) with parameter groups 26 weight(decay=0.0), 27 weight(decay=0.0005), 27 bias(decay=0.0)\n",
            "Image sizes 128 train, 128 val\n",
            "Using 2 dataloader workers\n",
            "Logging results to \u001b[1mruns/classify/train\u001b[0m\n",
            "Starting training for 3 epochs...\n",
            "\n",
            "      Epoch    GPU_mem       loss  Instances       Size\n",
            "        1/3     0.405G     0.4541         16        128:  45% 13/29 [00:02<00:01,  9.40it/s]Downloading https://ultralytics.com/assets/Arial.ttf to '/root/.config/Ultralytics/Arial.ttf'...\n",
            "        1/3     0.409G     0.3953         16        128:  97% 28/29 [00:03<00:00, 10.07it/s]\n",
            "100% 755k/755k [00:00<00:00, 8.31MB/s]\n",
            "        1/3     0.409G      0.384          3        128: 100% 29/29 [00:04<00:00,  6.22it/s]\n",
            "               classes   top1_acc   top5_acc: 100% 3/3 [00:00<00:00,  7.88it/s]\n",
            "                   all      0.864          1\n",
            "\n",
            "      Epoch    GPU_mem       loss  Instances       Size\n",
            "        2/3     0.388G     0.1774          3        128: 100% 29/29 [00:01<00:00, 24.41it/s]\n",
            "               classes   top1_acc   top5_acc: 100% 3/3 [00:00<00:00, 67.75it/s]\n",
            "                   all      0.939          1\n",
            "\n",
            "      Epoch    GPU_mem       loss  Instances       Size\n",
            "        3/3     0.388G    0.09695          3        128: 100% 29/29 [00:01<00:00, 25.69it/s]\n",
            "               classes   top1_acc   top5_acc: 100% 3/3 [00:00<00:00, 74.54it/s]\n",
            "                   all      0.985          1\n",
            "\n",
            "3 epochs completed in 0.003 hours.\n",
            "Optimizer stripped from runs/classify/train/weights/last.pt, 3.0MB\n",
            "Optimizer stripped from runs/classify/train/weights/best.pt, 3.0MB\n",
            "\n",
            "Validating runs/classify/train/weights/best.pt...\n",
            "Ultralytics YOLOv8.0.196 🚀 Python-3.10.12 torch-2.0.1+cu118 CUDA:0 (Tesla T4, 15102MiB)\n",
            "YOLOv8n-cls summary (fused): 73 layers, 1442566 parameters, 0 gradients, 3.3 GFLOPs\n",
            "WARNING ⚠️ Dataset 'split=val' not found, using 'split=test' instead.\n",
            "\u001b[34m\u001b[1mtrain:\u001b[0m /content/datasets/Fishes-classification-1/train... found 451 images in 6 classes ✅ \n",
            "\u001b[34m\u001b[1mval:\u001b[0m None...\n",
            "\u001b[34m\u001b[1mtest:\u001b[0m /content/datasets/Fishes-classification-1/test... found 66 images in 6 classes ✅ \n",
            "               classes   top1_acc   top5_acc: 100% 3/3 [00:00<00:00, 17.54it/s]\n",
            "                   all      0.985          1\n",
            "Speed: 0.1ms preprocess, 0.3ms inference, 0.0ms loss, 0.0ms postprocess per image\n",
            "Results saved to \u001b[1mruns/classify/train\u001b[0m\n",
            "Results saved to \u001b[1mruns/classify/train\u001b[0m\n",
            "💡 Learn more at https://docs.ultralytics.com/modes/train\n"
          ]
        }
      ],
      "source": [
        "%cd {HOME}\n",
        "\n",
        "!yolo task=classify mode=train model=yolov8n-cls.pt data={dataset.location} epochs=3 imgsz=128"
      ]
    },
    {
      "cell_type": "code",
      "execution_count": null,
      "metadata": {
        "colab": {
          "base_uri": "https://localhost:8080/"
        },
        "id": "1MScstfHhArr",
        "outputId": "1514c6ff-b747-4be3-d17f-675d9561c820"
      },
      "outputs": [
        {
          "output_type": "stream",
          "name": "stdout",
          "text": [
            "total 1064\n",
            "drwxr-xr-x 3 root root   4096 Oct 11 06:05 .\n",
            "drwxr-xr-x 3 root root   4096 Oct 11 06:05 ..\n",
            "-rw-r--r-- 1 root root   1427 Oct 11 06:05 args.yaml\n",
            "-rw-r--r-- 1 root root 136764 Oct 11 06:05 confusion_matrix_normalized.png\n",
            "-rw-r--r-- 1 root root 120312 Oct 11 06:05 confusion_matrix.png\n",
            "-rw-r--r-- 1 root root 144614 Oct 11 06:05 events.out.tfevents.1697004307.99609ce0ef01.1176.0\n",
            "-rw-r--r-- 1 root root    768 Oct 11 06:05 results.csv\n",
            "-rw-r--r-- 1 root root 116281 Oct 11 06:05 results.png\n",
            "-rw-r--r-- 1 root root  65910 Oct 11 06:05 train_batch0.jpg\n",
            "-rw-r--r-- 1 root root  68670 Oct 11 06:05 train_batch1.jpg\n",
            "-rw-r--r-- 1 root root  64628 Oct 11 06:05 train_batch2.jpg\n",
            "-rw-r--r-- 1 root root  74246 Oct 11 06:05 val_batch0_labels.jpg\n",
            "-rw-r--r-- 1 root root  74315 Oct 11 06:05 val_batch0_pred.jpg\n",
            "-rw-r--r-- 1 root root  74156 Oct 11 06:05 val_batch1_labels.jpg\n",
            "-rw-r--r-- 1 root root  74156 Oct 11 06:05 val_batch1_pred.jpg\n",
            "-rw-r--r-- 1 root root  11111 Oct 11 06:05 val_batch2_labels.jpg\n",
            "-rw-r--r-- 1 root root  11111 Oct 11 06:05 val_batch2_pred.jpg\n",
            "drwxr-xr-x 2 root root   4096 Oct 11 06:05 weights\n"
          ]
        }
      ],
      "source": [
        "!ls -la {HOME}/runs/classify/train/"
      ]
    },
    {
      "cell_type": "code",
      "execution_count": null,
      "metadata": {
        "colab": {
          "base_uri": "https://localhost:8080/"
        },
        "id": "U_ZOpnH9scaU",
        "outputId": "3c708b34-7760-4164-b2a4-bbc092b7944e"
      },
      "outputs": [
        {
          "output_type": "stream",
          "name": "stdout",
          "text": [
            "                  epoch,             train/loss,  metrics/accuracy_top1,  metrics/accuracy_top5,               val/loss,                 lr/pg0,                 lr/pg1,                 lr/pg2\n",
            "                      1,                  0.384,                0.86364,                      1,                0.51336,             0.00019992,             0.00019992,             0.00019992\n",
            "                      2,                0.17744,                0.93939,                      1,                0.41021,             0.00027268,             0.00027268,             0.00027268\n",
            "                      3,                0.09695,                0.98485,                      1,                0.38918,             0.00020877,             0.00020877,             0.00020877\n"
          ]
        }
      ],
      "source": [
        "!cat {HOME}/runs/classify/train/results.csv | head -10"
      ]
    },
    {
      "cell_type": "markdown",
      "metadata": {
        "id": "6ODk1VTlevxn"
      },
      "source": [
        "## Validate Custom Model"
      ]
    },
    {
      "cell_type": "code",
      "execution_count": null,
      "metadata": {
        "colab": {
          "base_uri": "https://localhost:8080/"
        },
        "id": "YpyuwrNlXc1P",
        "outputId": "600f9d47-6d96-4b51-f5fa-fe01a8083fda"
      },
      "outputs": [
        {
          "output_type": "stream",
          "name": "stdout",
          "text": [
            "/content\n",
            "Ultralytics YOLOv8.0.196 🚀 Python-3.10.12 torch-2.0.1+cu118 CUDA:0 (Tesla T4, 15102MiB)\n",
            "YOLOv8n-cls summary (fused): 73 layers, 1442566 parameters, 0 gradients, 3.3 GFLOPs\n",
            "WARNING ⚠️ Dataset 'split=val' not found, using 'split=test' instead.\n",
            "\u001b[34m\u001b[1mtrain:\u001b[0m /content/datasets/Fishes-classification-1/train... found 451 images in 6 classes ✅ \n",
            "\u001b[34m\u001b[1mval:\u001b[0m None...\n",
            "\u001b[34m\u001b[1mtest:\u001b[0m /content/datasets/Fishes-classification-1/test... found 66 images in 6 classes ✅ \n",
            "Traceback (most recent call last):\n",
            "  File \"/usr/local/bin/yolo\", line 8, in <module>\n",
            "    sys.exit(entrypoint())\n",
            "  File \"/usr/local/lib/python3.10/dist-packages/ultralytics/cfg/__init__.py\", line 445, in entrypoint\n",
            "    getattr(model, mode)(**overrides)  # default args from model\n",
            "  File \"/usr/local/lib/python3.10/dist-packages/ultralytics/engine/model.py\", line 276, in val\n",
            "    validator(model=self.model)\n",
            "  File \"/usr/local/lib/python3.10/dist-packages/torch/utils/_contextlib.py\", line 115, in decorate_context\n",
            "    return func(*args, **kwargs)\n",
            "  File \"/usr/local/lib/python3.10/dist-packages/ultralytics/engine/validator.py\", line 150, in __call__\n",
            "    self.dataloader = self.dataloader or self.get_dataloader(self.data.get(self.args.split), self.args.batch)\n",
            "  File \"/usr/local/lib/python3.10/dist-packages/ultralytics/models/yolo/classify/val.py\", line 86, in get_dataloader\n",
            "    dataset = self.build_dataset(dataset_path)\n",
            "  File \"/usr/local/lib/python3.10/dist-packages/ultralytics/models/yolo/classify/val.py\", line 82, in build_dataset\n",
            "    return ClassificationDataset(root=img_path, args=self.args, augment=False, prefix=self.args.split)\n",
            "  File \"/usr/local/lib/python3.10/dist-packages/ultralytics/data/dataset.py\", line 220, in __init__\n",
            "    super().__init__(root=root)\n",
            "  File \"/usr/local/lib/python3.10/dist-packages/torchvision/datasets/folder.py\", line 309, in __init__\n",
            "    super().__init__(\n",
            "  File \"/usr/local/lib/python3.10/dist-packages/torchvision/datasets/folder.py\", line 145, in __init__\n",
            "    samples = self.make_dataset(self.root, class_to_idx, extensions, is_valid_file)\n",
            "  File \"/usr/local/lib/python3.10/dist-packages/torchvision/datasets/folder.py\", line 189, in make_dataset\n",
            "    return make_dataset(directory, class_to_idx, extensions=extensions, is_valid_file=is_valid_file)\n",
            "  File \"/usr/local/lib/python3.10/dist-packages/torchvision/datasets/folder.py\", line 61, in make_dataset\n",
            "    directory = os.path.expanduser(directory)\n",
            "  File \"/usr/lib/python3.10/posixpath.py\", line 232, in expanduser\n",
            "    path = os.fspath(path)\n",
            "TypeError: expected str, bytes or os.PathLike object, not NoneType\n"
          ]
        }
      ],
      "source": [
        "%cd {HOME}\n",
        "\n",
        "!yolo task=classify mode=val model={HOME}/runs/classify/train/weights/best.pt data={dataset.location}"
      ]
    },
    {
      "cell_type": "markdown",
      "metadata": {
        "id": "i4eASbcWkQBq"
      },
      "source": [
        "## Inference with Custom Model"
      ]
    },
    {
      "cell_type": "code",
      "execution_count": null,
      "metadata": {
        "colab": {
          "base_uri": "https://localhost:8080/"
        },
        "id": "Wjc1ctZykYuf",
        "outputId": "13d04608-36a5-48ce-922a-6ba07b63bf21"
      },
      "outputs": [
        {
          "name": "stdout",
          "output_type": "stream",
          "text": [
            "/content\n",
            "Ultralytics YOLOv8.0.9 🚀 Python-3.8.10 torch-1.13.1+cu116 CUDA:0 (Tesla T4, 15110MiB)\n",
            "Fusing layers... \n",
            "YOLOv8n-cls summary: 73 layers, 1440004 parameters, 0 gradients, 3.3 GFLOPs\n",
            "image 1/113 /content/datasets/Banana-Ripeness-Classification-4/test/overripe/musa-acuminata-mold-e18cfd23-1d0a-11ec-87d5-d8c4975e38aa_jpg.rf.175dccdf3479ad6a73213197efe00527.jpg: 128x128 overripe 0.40, ripe 0.23, rotten 0.18, unripe 0.18, 5.0ms\n",
            "image 2/113 /content/datasets/Banana-Ripeness-Classification-4/test/overripe/musa-acuminata-mold-e1a4d2b8-1d0a-11ec-af1f-d8c4975e38aa_jpg.rf.49b2874813b9606a2e643b694212cfc1.jpg: 128x128 overripe 0.47, ripe 0.18, rotten 0.18, unripe 0.18, 3.2ms\n",
            "image 3/113 /content/datasets/Banana-Ripeness-Classification-4/test/overripe/musa-acuminata-mold-e1ae5b43-1d0a-11ec-80fd-d8c4975e38aa_jpg.rf.e3757cdfe9a0f7a6a659b6e6858e3a2a.jpg: 128x128 overripe 0.43, ripe 0.21, rotten 0.18, unripe 0.18, 3.2ms\n",
            "image 4/113 /content/datasets/Banana-Ripeness-Classification-4/test/overripe/musa-acuminata-mold-e1de067f-1d0a-11ec-bae6-d8c4975e38aa_jpg.rf.1ab7aa2244f9fe003f316216283f5844.jpg: 128x128 overripe 0.42, ripe 0.21, rotten 0.18, unripe 0.18, 3.2ms\n",
            "image 5/113 /content/datasets/Banana-Ripeness-Classification-4/test/overripe/musa-acuminata-mold-e1fd0281-1d0a-11ec-801c-d8c4975e38aa_jpg.rf.cdfd103ba1477ff7acd004cf2f6cdef3.jpg: 128x128 overripe 0.42, ripe 0.22, rotten 0.18, unripe 0.18, 3.2ms\n",
            "image 6/113 /content/datasets/Banana-Ripeness-Classification-4/test/overripe/musa-acuminata-mold-e204290c-1d0a-11ec-8719-d8c4975e38aa_jpg.rf.66504f7c1b12b267c49208a2cd4ee57e.jpg: 128x128 overripe 0.42, ripe 0.22, rotten 0.18, unripe 0.18, 3.1ms\n",
            "image 7/113 /content/datasets/Banana-Ripeness-Classification-4/test/overripe/musa-acuminata-mold-e21275f0-1d0a-11ec-8c2f-d8c4975e38aa_jpg.rf.9353241561589afe3de6c16a5740d29b.jpg: 128x128 overripe 0.47, ripe 0.18, rotten 0.18, unripe 0.17, 3.2ms\n",
            "image 8/113 /content/datasets/Banana-Ripeness-Classification-4/test/overripe/musa-acuminata-mold-e21e6205-1d0a-11ec-bd57-d8c4975e38aa_jpg.rf.fe3c37639d3e65e2dd51812b7554b9f0.jpg: 128x128 overripe 0.46, rotten 0.18, ripe 0.18, unripe 0.18, 4.9ms\n",
            "image 9/113 /content/datasets/Banana-Ripeness-Classification-4/test/overripe/musa-acuminata-mold-e2958c9d-1d0a-11ec-afe5-d8c4975e38aa_jpg.rf.d7dbcbbf0e1f981a4d27d4d06a427b06.jpg: 128x128 overripe 0.46, ripe 0.19, rotten 0.18, unripe 0.18, 3.6ms\n",
            "image 10/113 /content/datasets/Banana-Ripeness-Classification-4/test/overripe/musa-acuminata-mold-e2d848d4-1d0a-11ec-bd61-d8c4975e38aa_jpg.rf.36f4a094634118b0d416ac22e773f08b.jpg: 128x128 overripe 0.48, rotten 0.17, ripe 0.17, unripe 0.17, 3.2ms\n",
            "image 11/113 /content/datasets/Banana-Ripeness-Classification-4/test/overripe/musa-acuminata-mold-e2edbc4e-1d0a-11ec-bdbf-d8c4975e38aa_jpg.rf.6ff3f455acff4918e9d76e7f1f2ead10.jpg: 128x128 overripe 0.48, rotten 0.17, ripe 0.17, unripe 0.17, 3.2ms\n",
            "image 12/113 /content/datasets/Banana-Ripeness-Classification-4/test/overripe/musa-acuminata-mold-e313dec4-1d0a-11ec-90ca-d8c4975e38aa_jpg.rf.032be875f5d10ee55e0a401d34bcfd42.jpg: 128x128 overripe 0.48, ripe 0.17, rotten 0.17, unripe 0.17, 3.3ms\n",
            "image 13/113 /content/datasets/Banana-Ripeness-Classification-4/test/overripe/musa-acuminata-mold-e3248de5-1d0a-11ec-870e-d8c4975e38aa_jpg.rf.29f241fd189e276ede742543b5ebf98f.jpg: 128x128 overripe 0.47, ripe 0.18, rotten 0.18, unripe 0.18, 3.4ms\n",
            "image 14/113 /content/datasets/Banana-Ripeness-Classification-4/test/overripe/musa-acuminata-mold-e34d1292-1d0a-11ec-aa20-d8c4975e38aa_jpg.rf.18d182afc131b4722b28016d7f28b02f.jpg: 128x128 overripe 0.47, ripe 0.18, rotten 0.18, unripe 0.18, 3.2ms\n",
            "image 15/113 /content/datasets/Banana-Ripeness-Classification-4/test/overripe/musa-acuminata-mold-e38d6cb2-1d0a-11ec-86b7-d8c4975e38aa_jpg.rf.799a4555e34d6d5b5acc27337d84f4f0.jpg: 128x128 overripe 0.48, rotten 0.17, ripe 0.17, unripe 0.17, 3.2ms\n",
            "image 16/113 /content/datasets/Banana-Ripeness-Classification-4/test/overripe/musa-acuminata-mold-e38fceeb-1d0a-11ec-8ec3-d8c4975e38aa_jpg.rf.e061bc37d62b1f4f7f58dcf95d66724b.jpg: 128x128 overripe 0.47, rotten 0.18, ripe 0.18, unripe 0.18, 3.2ms\n",
            "image 17/113 /content/datasets/Banana-Ripeness-Classification-4/test/overripe/musa-acuminata-mold-e3a7a47c-1d0a-11ec-a3d6-d8c4975e38aa_jpg.rf.63f8256cdc23dd77bce67d18ee4e3956.jpg: 128x128 overripe 0.47, rotten 0.18, ripe 0.17, unripe 0.17, 3.2ms\n",
            "image 18/113 /content/datasets/Banana-Ripeness-Classification-4/test/overripe/musa-acuminata-mold-e412e57f-1d0a-11ec-a6ae-d8c4975e38aa_jpg.rf.92fa06380f5ff58906752e536e961497.jpg: 128x128 overripe 0.48, rotten 0.17, ripe 0.17, unripe 0.17, 3.2ms\n",
            "image 19/113 /content/datasets/Banana-Ripeness-Classification-4/test/overripe/musa-acuminata-mold-e4390815-1d0a-11ec-b2c1-d8c4975e38aa_jpg.rf.d261ef498ced39069f3ba4b34020bef7.jpg: 128x128 overripe 0.48, rotten 0.18, ripe 0.17, unripe 0.17, 3.4ms\n",
            "image 20/113 /content/datasets/Banana-Ripeness-Classification-4/test/overripe/musa-acuminata-mold-e468b364-1d0a-11ec-951a-d8c4975e38aa_jpg.rf.048dd735b0cdaf7a92b642f5c901cf6b.jpg: 128x128 overripe 0.47, rotten 0.18, ripe 0.18, unripe 0.18, 3.2ms\n",
            "image 21/113 /content/datasets/Banana-Ripeness-Classification-4/test/overripe/musa-acuminata-mold-e4854d39-1d0a-11ec-9766-d8c4975e38aa_jpg.rf.79fb3005483bddb4b746969e1636b4ab.jpg: 128x128 overripe 0.47, rotten 0.18, ripe 0.18, unripe 0.18, 3.2ms\n",
            "image 22/113 /content/datasets/Banana-Ripeness-Classification-4/test/overripe/musa-acuminata-mold-e4b033d5-1d0a-11ec-800d-d8c4975e38aa_jpg.rf.ebd64901aacd92379a919c1091d8809b.jpg: 128x128 overripe 0.47, rotten 0.18, ripe 0.17, unripe 0.17, 3.5ms\n",
            "image 23/113 /content/datasets/Banana-Ripeness-Classification-4/test/overripe/musa-acuminata-mold-e4b295f7-1d0a-11ec-8b9e-d8c4975e38aa_jpg.rf.39536025ec31c16325cecc1369174cb6.jpg: 128x128 overripe 0.47, rotten 0.18, ripe 0.18, unripe 0.18, 3.3ms\n",
            "image 24/113 /content/datasets/Banana-Ripeness-Classification-4/test/overripe/musa-acuminata-mold-e4c80973-1d0a-11ec-8f6c-d8c4975e38aa_jpg.rf.c72d4258a71fa271ddc9cc9696ea49d5.jpg: 128x128 overripe 0.47, rotten 0.18, ripe 0.18, unripe 0.18, 3.9ms\n",
            "image 25/113 /content/datasets/Banana-Ripeness-Classification-4/test/overripe/musa-acuminata-mold-e50ac89f-1d0a-11ec-b750-d8c4975e38aa_jpg.rf.dafaacfa8e2fcf260bf79d0560bbaf69.jpg: 128x128 overripe 0.47, rotten 0.18, ripe 0.18, unripe 0.18, 3.3ms\n",
            "image 26/113 /content/datasets/Banana-Ripeness-Classification-4/test/overripe/musa-acuminata-mold-e51912ab-1d0a-11ec-8eb2-d8c4975e38aa_jpg.rf.872624bd5113d69f0c009161879893f1.jpg: 128x128 overripe 0.46, rotten 0.18, ripe 0.18, unripe 0.18, 3.3ms\n",
            "image 27/113 /content/datasets/Banana-Ripeness-Classification-4/test/overripe/musa-acuminata-mold-e52e870e-1d0a-11ec-80be-d8c4975e38aa_jpg.rf.6e0a060f37478c2b2c2eceaac35dcd1e.jpg: 128x128 overripe 0.46, rotten 0.18, unripe 0.18, ripe 0.18, 3.3ms\n",
            "image 28/113 /content/datasets/Banana-Ripeness-Classification-4/test/overripe/musa-acuminata-mold-e5334cbb-1d0a-11ec-9eec-d8c4975e38aa_jpg.rf.b0a3fd2f56ca7662bb0934cf34f8c0e3.jpg: 128x128 overripe 0.47, rotten 0.18, ripe 0.18, unripe 0.18, 3.3ms\n",
            "image 29/113 /content/datasets/Banana-Ripeness-Classification-4/test/overripe/musa-acuminata-mold-e543f983-1d0a-11ec-bbdb-d8c4975e38aa_jpg.rf.6be77f0b5e1d2ff92f3ffa71641099df.jpg: 128x128 rotten 0.46, overripe 0.18, unripe 0.18, ripe 0.18, 3.3ms\n",
            "image 30/113 /content/datasets/Banana-Ripeness-Classification-4/test/overripe/musa-acuminata-mold-e56a1c19-1d0a-11ec-9d4b-d8c4975e38aa_jpg.rf.17ac222e84331b81b6127b83dce7dec6.jpg: 128x128 overripe 0.47, rotten 0.18, ripe 0.18, unripe 0.18, 3.4ms\n",
            "image 31/113 /content/datasets/Banana-Ripeness-Classification-4/test/overripe/musa-acuminata-mold-e5976800-1d0a-11ec-a564-d8c4975e38aa_jpg.rf.29ce3a3db4a53e7d20c261849c762f31.jpg: 128x128 overripe 0.43, rotten 0.21, ripe 0.18, unripe 0.18, 3.3ms\n",
            "image 32/113 /content/datasets/Banana-Ripeness-Classification-4/test/overripe/musa-acuminata-mold-e5c4b03e-1d0a-11ec-b334-d8c4975e38aa_jpg.rf.ca15ad9c1138d8beb99f8c785bdf4aaa.jpg: 128x128 overripe 0.47, rotten 0.18, ripe 0.18, unripe 0.18, 3.7ms\n",
            "image 33/113 /content/datasets/Banana-Ripeness-Classification-4/test/overripe/musa-acuminata-mold-e5d7bf45-1d0a-11ec-81e5-d8c4975e38aa_jpg.rf.02a4df5b34b4463ffbe185dff614994d.jpg: 128x128 overripe 0.47, rotten 0.18, ripe 0.18, unripe 0.18, 3.1ms\n",
            "image 34/113 /content/datasets/Banana-Ripeness-Classification-4/test/overripe/musa-acuminata-mold-e5ead07c-1d0a-11ec-8277-d8c4975e38aa_jpg.rf.0730c0cef93d9f7eaa43733d30752e87.jpg: 128x128 overripe 0.48, rotten 0.17, ripe 0.17, unripe 0.17, 3.2ms\n",
            "image 35/113 /content/datasets/Banana-Ripeness-Classification-4/test/overripe/musa-acuminata-mold-e61f3fe3-1d0a-11ec-b881-d8c4975e38aa_jpg.rf.6658b435fdfbc7604a51fc29e402e7fa.jpg: 128x128 overripe 0.47, rotten 0.18, ripe 0.18, unripe 0.18, 3.2ms\n",
            "image 36/113 /content/datasets/Banana-Ripeness-Classification-4/test/overripe/musa-acuminata-mold-e647c494-1d0a-11ec-b111-d8c4975e38aa_jpg.rf.b71d67ecea5ea4505b508171eb068490.jpg: 128x128 overripe 0.47, rotten 0.18, ripe 0.18, unripe 0.18, 3.3ms\n",
            "image 37/113 /content/datasets/Banana-Ripeness-Classification-4/test/overripe/musa-acuminata-mold-e64c8b36-1d0a-11ec-94ff-d8c4975e38aa_jpg.rf.a8f6a1efc52228e51bdedad43c0a06dd.jpg: 128x128 overripe 0.47, rotten 0.18, ripe 0.18, unripe 0.18, 3.3ms\n",
            "image 38/113 /content/datasets/Banana-Ripeness-Classification-4/test/overripe/musa-acuminata-mold-e65d3a4a-1d0a-11ec-96cf-d8c4975e38aa_jpg.rf.2f0171a63244cdbedf5da16f55d5f915.jpg: 128x128 overripe 0.47, rotten 0.18, ripe 0.18, unripe 0.18, 4.2ms\n",
            "image 39/113 /content/datasets/Banana-Ripeness-Classification-4/test/overripe/musa-acuminata-mold-e68ce469-1d0a-11ec-b447-d8c4975e38aa_jpg.rf.6e2c90802a27993055d5d8c184e2cf95.jpg: 128x128 overripe 0.45, rotten 0.19, ripe 0.18, unripe 0.18, 3.3ms\n",
            "image 40/113 /content/datasets/Banana-Ripeness-Classification-4/test/overripe/musa-acuminata-mold-e691a8f1-1d0a-11ec-8d3f-d8c4975e38aa_jpg.rf.781ffeeb07a263adc0512b837edd14b8.jpg: 128x128 overripe 0.47, rotten 0.18, ripe 0.18, unripe 0.18, 3.3ms\n",
            "image 41/113 /content/datasets/Banana-Ripeness-Classification-4/test/overripe/musa-acuminata-overripe-74d28e6f-2653-11ec-a1c3-d8c4975e38aa_jpg.rf.c494b2c758d1430121a55d0607fd5f29.jpg: 128x128 overripe 0.44, ripe 0.20, rotten 0.18, unripe 0.18, 3.3ms\n",
            "image 42/113 /content/datasets/Banana-Ripeness-Classification-4/test/overripe/musa-acuminata-overripe-750bc0a8-2653-11ec-ba0b-d8c4975e38aa_jpg.rf.7d1c7576786e3ea0ef6c140193a65c2c.jpg: 128x128 overripe 0.33, ripe 0.30, rotten 0.19, unripe 0.19, 3.3ms\n",
            "image 43/113 /content/datasets/Banana-Ripeness-Classification-4/test/overripe/musa-acuminata-overripe-75618eec-2653-11ec-9915-d8c4975e38aa_jpg.rf.abdef39134c7eed892593fd725c86681.jpg: 128x128 overripe 0.44, ripe 0.19, rotten 0.19, unripe 0.18, 3.6ms\n",
            "image 44/113 /content/datasets/Banana-Ripeness-Classification-4/test/overripe/musa-acuminata-overripe-75665408-2653-11ec-ab45-d8c4975e38aa_jpg.rf.a70979de04466654fd72b72a0bfbc21b.jpg: 128x128 overripe 0.39, ripe 0.23, rotten 0.19, unripe 0.19, 3.7ms\n",
            "image 45/113 /content/datasets/Banana-Ripeness-Classification-4/test/overripe/musa-acuminata-overripe-75e4a4f0-2653-11ec-ab49-d8c4975e38aa_jpg.rf.eacd4c7e51a6ab265aeeb7690ce657ac.jpg: 128x128 overripe 0.43, ripe 0.21, rotten 0.18, unripe 0.18, 3.5ms\n",
            "image 46/113 /content/datasets/Banana-Ripeness-Classification-4/test/overripe/musa-acuminata-overripe-75e70707-2653-11ec-bd18-d8c4975e38aa_jpg.rf.29bb5e3e93929628959f8b2a17375ff8.jpg: 128x128 overripe 0.47, ripe 0.18, rotten 0.18, unripe 0.18, 3.2ms\n",
            "image 47/113 /content/datasets/Banana-Ripeness-Classification-4/test/overripe/musa-acuminata-overripe-76d2fc64-2653-11ec-92cc-d8c4975e38aa_jpg.rf.f3264f4fc782fd748d5cb2c0c465edb2.jpg: 128x128 overripe 0.47, ripe 0.18, rotten 0.18, unripe 0.18, 3.5ms\n",
            "image 48/113 /content/datasets/Banana-Ripeness-Classification-4/test/overripe/musa-acuminata-overripe-76ed3418-2653-11ec-8f9b-d8c4975e38aa_jpg.rf.3761401e77076ca710eb2ec4efcf24a0.jpg: 128x128 overripe 0.47, rotten 0.18, ripe 0.17, unripe 0.17, 3.2ms\n",
            "image 49/113 /content/datasets/Banana-Ripeness-Classification-4/test/overripe/musa-acuminata-overripe-7b987780-2653-11ec-a349-d8c4975e38aa_jpg.rf.be7ff07ec704133893fb01af2ffbcc0c.jpg: 128x128 overripe 0.47, rotten 0.18, ripe 0.17, unripe 0.17, 3.2ms\n",
            "image 50/113 /content/datasets/Banana-Ripeness-Classification-4/test/overripe/musa-acuminata-overripe-7bfb286f-2653-11ec-92cf-d8c4975e38aa_jpg.rf.43437d547db041a6a21a9a47be68ee52.jpg: 128x128 overripe 0.48, rotten 0.18, ripe 0.17, unripe 0.17, 3.2ms\n",
            "image 51/113 /content/datasets/Banana-Ripeness-Classification-4/test/overripe/musa-acuminata-overripe-7c3cdfd8-2653-11ec-942a-d8c4975e38aa_jpg.rf.29336873f2bb8c3b088545b75c853dc2.jpg: 128x128 overripe 0.48, rotten 0.18, ripe 0.17, unripe 0.17, 3.8ms\n",
            "image 52/113 /content/datasets/Banana-Ripeness-Classification-4/test/overripe/musa-acuminata-overripe-7c798691-2653-11ec-8890-d8c4975e38aa_jpg.rf.5bb952fb3a0d04bb610db0026536e3a5.jpg: 128x128 overripe 0.47, rotten 0.18, ripe 0.18, unripe 0.18, 3.2ms\n",
            "image 53/113 /content/datasets/Banana-Ripeness-Classification-4/test/overripe/musa-acuminata-overripe-7cb53e92-2653-11ec-96e3-d8c4975e38aa_jpg.rf.3091774e0742cef3ac095d7978ab2f21.jpg: 128x128 overripe 0.47, rotten 0.18, ripe 0.18, unripe 0.18, 3.2ms\n",
            "image 54/113 /content/datasets/Banana-Ripeness-Classification-4/test/overripe/musa-acuminata-overripe-7d234200-2653-11ec-a391-d8c4975e38aa_jpg.rf.e47bf1a73d280f2e9044fc6ed3754d01.jpg: 128x128 overripe 0.47, rotten 0.18, ripe 0.17, unripe 0.17, 3.2ms\n",
            "image 55/113 /content/datasets/Banana-Ripeness-Classification-4/test/overripe/musa-acuminata-overripe-7d242aae-2653-11ec-bac1-d8c4975e38aa_jpg.rf.03b9e1ec85a7e5b9fc5fd2402c686429.jpg: 128x128 overripe 0.47, rotten 0.18, ripe 0.18, unripe 0.18, 3.3ms\n",
            "image 56/113 /content/datasets/Banana-Ripeness-Classification-4/test/overripe/musa-acuminata-overripe-7d27a70a-2653-11ec-8116-d8c4975e38aa_jpg.rf.5af038c5ca5f970452df775dbd3fb712.jpg: 128x128 overripe 0.48, rotten 0.18, ripe 0.17, unripe 0.17, 3.3ms\n",
            "image 57/113 /content/datasets/Banana-Ripeness-Classification-4/test/overripe/musa-acuminata-overripe-7de91908-2653-11ec-ae8f-d8c4975e38aa_jpg.rf.b24e7bff45e3099c00683d5deefdd095.jpg: 128x128 overripe 0.46, rotten 0.19, ripe 0.18, unripe 0.18, 3.2ms\n",
            "image 58/113 /content/datasets/Banana-Ripeness-Classification-4/test/overripe/musa-acuminata-overripe-7e12d34e-2653-11ec-a53b-d8c4975e38aa_jpg.rf.357365393f189cdba11ff29735feb78e.jpg: 128x128 overripe 0.47, rotten 0.18, ripe 0.18, unripe 0.17, 5.4ms\n",
            "image 59/113 /content/datasets/Banana-Ripeness-Classification-4/test/overripe/musa-acuminata-overripe-7e14f045-2653-11ec-8ab5-d8c4975e38aa_jpg.rf.8ff6bd42049845a152b519c4c3efa17a.jpg: 128x128 overripe 0.47, rotten 0.18, ripe 0.18, unripe 0.18, 3.3ms\n",
            "image 60/113 /content/datasets/Banana-Ripeness-Classification-4/test/overripe/musa-acuminata-overripe-7e1f43ce-2653-11ec-84b6-d8c4975e38aa_jpg.rf.38524925eb3fe8e2dec6209278fd9f6c.jpg: 128x128 overripe 0.47, rotten 0.18, ripe 0.18, unripe 0.18, 3.2ms\n",
            "image 61/113 /content/datasets/Banana-Ripeness-Classification-4/test/overripe/musa-acuminata-overripe-7e2ff028-2653-11ec-8d2b-d8c4975e38aa_jpg.rf.018044b041132db164501892f226d91d.jpg: 128x128 overripe 0.47, rotten 0.18, ripe 0.18, unripe 0.18, 3.3ms\n",
            "image 62/113 /content/datasets/Banana-Ripeness-Classification-4/test/overripe/musa-acuminata-overripe-7e3fd1f4-2653-11ec-a42a-d8c4975e38aa_jpg.rf.ff6c329869a78392cf1fe543afbb1c8b.jpg: 128x128 overripe 0.47, ripe 0.18, rotten 0.18, unripe 0.18, 4.0ms\n",
            "image 63/113 /content/datasets/Banana-Ripeness-Classification-4/test/overripe/musa-acuminata-overripe-7e96b91e-2653-11ec-a217-d8c4975e38aa_jpg.rf.cda2157e424f78408f49295af97a0caa.jpg: 128x128 overripe 0.47, rotten 0.18, ripe 0.18, unripe 0.18, 3.2ms\n",
            "image 64/113 /content/datasets/Banana-Ripeness-Classification-4/test/overripe/musa-acuminata-overripe-7ee0fa95-2653-11ec-b657-d8c4975e38aa_jpg.rf.e75cf60d58c57dd08400bbbdd5547ab5.jpg: 128x128 overripe 0.47, rotten 0.18, ripe 0.18, unripe 0.18, 3.2ms\n",
            "image 65/113 /content/datasets/Banana-Ripeness-Classification-4/test/overripe/musa-acuminata-overripe-7eea9ccc-2653-11ec-be97-d8c4975e38aa_jpg.rf.6ed2cd18fb9a338712c8dc497a55817a.jpg: 128x128 overripe 0.47, rotten 0.18, ripe 0.18, unripe 0.18, 3.3ms\n",
            "image 66/113 /content/datasets/Banana-Ripeness-Classification-4/test/overripe/musa-acuminata-overripe-7efee22f-2653-11ec-bbd4-d8c4975e38aa_jpg.rf.e41066b26c8f4ef4b68c7bd00b840a10.jpg: 128x128 overripe 0.47, rotten 0.18, ripe 0.18, unripe 0.18, 3.2ms\n",
            "image 67/113 /content/datasets/Banana-Ripeness-Classification-4/test/overripe/musa-acuminata-overripe-7f03a6a9-2653-11ec-8b4e-d8c4975e38aa_jpg.rf.6f7ae39553379224bde2f82fcaa4afd7.jpg: 128x128 overripe 0.47, rotten 0.18, ripe 0.18, unripe 0.17, 3.2ms\n",
            "image 68/113 /content/datasets/Banana-Ripeness-Classification-4/test/overripe/musa-acuminata-overripe-7f5d1d04-2653-11ec-8b8f-d8c4975e38aa_jpg.rf.3ffd5c143609f9942aae15e8958e22d9.jpg: 128x128 overripe 0.39, rotten 0.24, ripe 0.19, unripe 0.19, 3.3ms\n",
            "image 69/113 /content/datasets/Banana-Ripeness-Classification-4/test/overripe/musa-acuminata-overripe-7f6f6f29-2653-11ec-9d96-d8c4975e38aa_jpg.rf.cf5d8ca5d28095dce6151a6be40f9b38.jpg: 128x128 overripe 0.48, rotten 0.18, ripe 0.17, unripe 0.17, 3.3ms\n",
            "image 70/113 /content/datasets/Banana-Ripeness-Classification-4/test/overripe/musa-acuminata-overripe-7f84dc0a-2653-11ec-8c37-d8c4975e38aa_jpg.rf.fe2b4057e58e63a16cbd2d693937c90e.jpg: 128x128 overripe 0.47, rotten 0.18, ripe 0.18, unripe 0.18, 3.2ms\n",
            "image 71/113 /content/datasets/Banana-Ripeness-Classification-4/test/overripe/musa-acuminata-overripe-7f85b72f-2653-11ec-b982-d8c4975e38aa_jpg.rf.d5264063585145514d60d0d025d0415c.jpg: 128x128 overripe 0.47, rotten 0.18, ripe 0.18, unripe 0.18, 3.2ms\n",
            "image 72/113 /content/datasets/Banana-Ripeness-Classification-4/test/overripe/musa-acuminata-overripe-7fefa999-2653-11ec-b909-d8c4975e38aa_jpg.rf.2ba9cbaebfb33dc12d0629116a4d9d5c.jpg: 128x128 overripe 0.43, rotten 0.21, ripe 0.18, unripe 0.18, 4.6ms\n",
            "image 73/113 /content/datasets/Banana-Ripeness-Classification-4/test/overripe/musa-acuminata-overripe-800695c4-2653-11ec-a5c4-d8c4975e38aa_jpg.rf.84b9385c9eda54b529c16461dae74726.jpg: 128x128 overripe 0.47, rotten 0.18, ripe 0.18, unripe 0.18, 3.5ms\n",
            "image 74/113 /content/datasets/Banana-Ripeness-Classification-4/test/overripe/musa-acuminata-overripe-800b04df-2653-11ec-a4b2-d8c4975e38aa_jpg.rf.b9ffa69fc845766680d69306d78bc598.jpg: 128x128 overripe 0.46, rotten 0.19, ripe 0.18, unripe 0.18, 3.4ms\n",
            "image 75/113 /content/datasets/Banana-Ripeness-Classification-4/test/overripe/musa-acuminata-overripe-801f37db-2653-11ec-9b3c-d8c4975e38aa_jpg.rf.12ff3f8d6bf7a533030e76654f53a5d4.jpg: 128x128 overripe 0.47, rotten 0.18, ripe 0.18, unripe 0.18, 3.3ms\n",
            "image 76/113 /content/datasets/Banana-Ripeness-Classification-4/test/overripe/musa-acuminata-overripe-804ce5c9-2653-11ec-823b-d8c4975e38aa_jpg.rf.eb2f084406bc21e0b6c7540266a2c639.jpg: 128x128 overripe 0.47, rotten 0.18, ripe 0.18, unripe 0.18, 4.7ms\n",
            "image 77/113 /content/datasets/Banana-Ripeness-Classification-4/test/overripe/musa-acuminata-overripe-8082efd8-2653-11ec-b0fc-d8c4975e38aa_jpg.rf.544efcbbde7dad272842bf43fea7fb68.jpg: 128x128 overripe 0.47, rotten 0.18, ripe 0.18, unripe 0.18, 3.6ms\n",
            "image 78/113 /content/datasets/Banana-Ripeness-Classification-4/test/overripe/musa-acuminata-overripe-8086e0e4-2653-11ec-8098-d8c4975e38aa_jpg.rf.7c51275ceb1ec6f1f8066633dfe4bc2c.jpg: 128x128 overripe 0.47, rotten 0.18, ripe 0.17, unripe 0.17, 3.3ms\n",
            "image 79/113 /content/datasets/Banana-Ripeness-Classification-4/test/overripe/musa-acuminata-overripe-8098c96c-2653-11ec-84d2-d8c4975e38aa_jpg.rf.aa4861de1008d379b0c0398d91777fe9.jpg: 128x128 overripe 0.45, rotten 0.19, ripe 0.18, unripe 0.18, 3.3ms\n",
            "image 80/113 /content/datasets/Banana-Ripeness-Classification-4/test/overripe/musa-acuminata-overripe-80b32ade-2653-11ec-9e07-d8c4975e38aa_jpg.rf.6392792c6c09e5643603b088e7264648.jpg: 128x128 overripe 0.47, rotten 0.18, ripe 0.17, unripe 0.17, 3.2ms\n",
            "image 81/113 /content/datasets/Banana-Ripeness-Classification-4/test/overripe/musa-acuminata-overripe-80d47afa-2653-11ec-96de-d8c4975e38aa_jpg.rf.d5acee30439fc8f1428cabc0c34ca68b.jpg: 128x128 overripe 0.47, rotten 0.18, ripe 0.18, unripe 0.18, 3.1ms\n",
            "image 82/113 /content/datasets/Banana-Ripeness-Classification-4/test/overripe/musa-acuminata-overripe-80ff3fdd-2653-11ec-9844-d8c4975e38aa_jpg.rf.bf47959156598572b13a4f16de581cd0.jpg: 128x128 overripe 0.47, rotten 0.18, unripe 0.18, ripe 0.18, 3.3ms\n",
            "image 83/113 /content/datasets/Banana-Ripeness-Classification-4/test/overripe/musa-acuminata-overripe-9bdb4860-1d0a-11ec-b038-d8c4975e38aa_jpg.rf.1f844034118b58f7673142d7afbede5f.jpg: 128x128 ripe 0.32, overripe 0.30, rotten 0.19, unripe 0.19, 3.2ms\n",
            "image 84/113 /content/datasets/Banana-Ripeness-Classification-4/test/overripe/musa-acuminata-overripe-9be26ec9-1d0a-11ec-a958-d8c4975e38aa_jpg.rf.6d15734b13a6fda73ca49e29287f9eab.jpg: 128x128 ripe 0.34, overripe 0.28, rotten 0.19, unripe 0.19, 3.2ms\n",
            "image 85/113 /content/datasets/Banana-Ripeness-Classification-4/test/overripe/musa-acuminata-overripe-9bf0bbae-1d0a-11ec-b453-d8c4975e38aa_jpg.rf.e2ec0a4fe8de7cb3c43e7ae8275f3be0.jpg: 128x128 overripe 0.39, ripe 0.24, rotten 0.19, unripe 0.18, 3.5ms\n",
            "image 86/113 /content/datasets/Banana-Ripeness-Classification-4/test/overripe/musa-acuminata-overripe-9bf31dc7-1d0a-11ec-a774-d8c4975e38aa_jpg.rf.28494baf3c4eda00a5a7da3c6505db5d.jpg: 128x128 overripe 0.45, ripe 0.19, rotten 0.18, unripe 0.18, 3.5ms\n",
            "image 87/113 /content/datasets/Banana-Ripeness-Classification-4/test/overripe/musa-acuminata-overripe-9c147c05-1d0a-11ec-96f3-d8c4975e38aa_jpg.rf.bf5019eb3a0c8f03701e09a11444d259.jpg: 128x128 overripe 0.32, ripe 0.30, unripe 0.19, rotten 0.19, 3.3ms\n",
            "image 88/113 /content/datasets/Banana-Ripeness-Classification-4/test/overripe/musa-acuminata-overripe-9c1ba285-1d0a-11ec-ab55-d8c4975e38aa_jpg.rf.2a73527bc0e6e71fa0fe66b4437540ab.jpg: 128x128 ripe 0.44, overripe 0.20, unripe 0.18, rotten 0.18, 3.4ms\n",
            "image 89/113 /content/datasets/Banana-Ripeness-Classification-4/test/overripe/musa-acuminata-overripe-9c527416-1d0a-11ec-a08c-d8c4975e38aa_jpg.rf.c157c31fc1f0d13c69a2c9bfe9515da1.jpg: 128x128 overripe 0.47, ripe 0.18, rotten 0.18, unripe 0.18, 3.2ms\n",
            "image 90/113 /content/datasets/Banana-Ripeness-Classification-4/test/overripe/musa-acuminata-overripe-9c573862-1d0a-11ec-8428-d8c4975e38aa_jpg.rf.5bf6ba0cf35b0905a9e487cf10dd71dc.jpg: 128x128 overripe 0.47, ripe 0.18, rotten 0.17, unripe 0.17, 3.7ms\n",
            "image 91/113 /content/datasets/Banana-Ripeness-Classification-4/test/overripe/musa-acuminata-overripe-9c7af8d1-1d0a-11ec-9322-d8c4975e38aa_jpg.rf.5ad4b48ee41287bd027273add79e7bd4.jpg: 128x128 overripe 0.47, ripe 0.18, rotten 0.17, unripe 0.17, 3.4ms\n",
            "image 92/113 /content/datasets/Banana-Ripeness-Classification-4/test/overripe/musa-acuminata-overripe-9cc2796e-1d0a-11ec-9270-d8c4975e38aa_jpg.rf.916607117bd1c8dbfcd0858fac034b97.jpg: 128x128 overripe 0.47, ripe 0.18, rotten 0.18, unripe 0.18, 3.6ms\n",
            "image 93/113 /content/datasets/Banana-Ripeness-Classification-4/test/overripe/musa-acuminata-overripe-9ce1756c-1d0a-11ec-9f60-d8c4975e38aa_jpg.rf.74ee6770ff59942b59b840eb193a3a32.jpg: 128x128 overripe 0.46, rotten 0.18, ripe 0.18, unripe 0.18, 3.4ms\n",
            "image 94/113 /content/datasets/Banana-Ripeness-Classification-4/test/overripe/musa-acuminata-overripe-9d6e14dd-1d0a-11ec-8368-d8c4975e38aa_jpg.rf.583349d07640207cfe2728b501ac8239.jpg: 128x128 overripe 0.47, rotten 0.18, ripe 0.18, unripe 0.18, 3.7ms\n",
            "image 95/113 /content/datasets/Banana-Ripeness-Classification-4/test/overripe/musa-acuminata-overripe-9d91d4f6-1d0a-11ec-b3c9-d8c4975e38aa_jpg.rf.b95f689d1589af5e474e17029d23b6a9.jpg: 128x128 overripe 0.45, rotten 0.19, ripe 0.18, unripe 0.18, 3.6ms\n",
            "image 96/113 /content/datasets/Banana-Ripeness-Classification-4/test/overripe/musa-acuminata-overripe-9e7b687b-1d0a-11ec-9c19-d8c4975e38aa_jpg.rf.e9e693a37c0bf9e60b15b647ed7cd83a.jpg: 128x128 overripe 0.47, rotten 0.18, ripe 0.17, unripe 0.17, 4.8ms\n",
            "image 97/113 /content/datasets/Banana-Ripeness-Classification-4/test/overripe/musa-acuminata-overripe-9fc45211-1d0a-11ec-bad0-d8c4975e38aa_jpg.rf.485aaadf8613ff77e5e3bb52647da9a2.jpg: 128x128 overripe 0.46, rotten 0.18, unripe 0.18, ripe 0.18, 3.5ms\n",
            "image 98/113 /content/datasets/Banana-Ripeness-Classification-4/test/overripe/musa-acuminata-overripe-9fcddbe9-1d0a-11ec-8f83-d8c4975e38aa_jpg.rf.1ed4fea177ee408faddc6cabb0334364.jpg: 128x128 overripe 0.48, rotten 0.17, ripe 0.17, unripe 0.17, 3.9ms\n",
            "image 99/113 /content/datasets/Banana-Ripeness-Classification-4/test/overripe/musa-acuminata-overripe-9fe81252-1d0a-11ec-b36b-d8c4975e38aa_jpg.rf.03ddfa0399054ddfb8bbba9fd8292b62.jpg: 128x128 overripe 0.47, rotten 0.18, ripe 0.18, unripe 0.18, 3.5ms\n",
            "image 100/113 /content/datasets/Banana-Ripeness-Classification-4/test/overripe/musa-acuminata-overripe-9ff19af1-1d0a-11ec-acfe-d8c4975e38aa_jpg.rf.58099fcfb112638c704c7430f2063ed2.jpg: 128x128 overripe 0.43, rotten 0.21, ripe 0.18, unripe 0.18, 3.6ms\n",
            "image 101/113 /content/datasets/Banana-Ripeness-Classification-4/test/overripe/musa-acuminata-overripe-a023a989-1d0a-11ec-be78-d8c4975e38aa_jpg.rf.2b39c8b9fcb48ac939640d35b606da51.jpg: 128x128 overripe 0.47, rotten 0.18, ripe 0.18, unripe 0.18, 3.6ms\n",
            "image 102/113 /content/datasets/Banana-Ripeness-Classification-4/test/overripe/musa-acuminata-overripe-a03b7f3f-1d0a-11ec-8f72-d8c4975e38aa_jpg.rf.912e73b0ee3b4040bcc49c9429bff6d7.jpg: 128x128 overripe 0.47, rotten 0.18, ripe 0.18, unripe 0.18, 3.6ms\n",
            "image 103/113 /content/datasets/Banana-Ripeness-Classification-4/test/overripe/musa-acuminata-overripe-a0a92104-1d0a-11ec-9f07-d8c4975e38aa_jpg.rf.8f39ab858b48ebbde0e8c289667b3b14.jpg: 128x128 overripe 0.47, rotten 0.18, ripe 0.17, unripe 0.17, 4.9ms\n",
            "image 104/113 /content/datasets/Banana-Ripeness-Classification-4/test/overripe/musa-acuminata-overripe-a0c81d03-1d0a-11ec-83dc-d8c4975e38aa_jpg.rf.0fbd42942f192a46edfa594668ac992e.jpg: 128x128 overripe 0.48, rotten 0.17, ripe 0.17, unripe 0.17, 3.9ms\n",
            "image 105/113 /content/datasets/Banana-Ripeness-Classification-4/test/overripe/musa-acuminata-overripe-a0d407c7-1d0a-11ec-a919-d8c4975e38aa_jpg.rf.7337505393886a9680e9ff011bd8dc8b.jpg: 128x128 overripe 0.47, rotten 0.18, ripe 0.18, unripe 0.18, 3.5ms\n",
            "image 106/113 /content/datasets/Banana-Ripeness-Classification-4/test/overripe/musa-acuminata-overripe-a1251129-1d0a-11ec-91de-d8c4975e38aa_jpg.rf.38673067cdfcf1541e1789393ca5c240.jpg: 128x128 overripe 0.47, rotten 0.18, ripe 0.18, unripe 0.18, 5.3ms\n",
            "image 107/113 /content/datasets/Banana-Ripeness-Classification-4/test/overripe/musa-acuminata-overripe-a12775a1-1d0a-11ec-9e43-d8c4975e38aa_jpg.rf.09117709ac63e8fa0c4e04c10eb4bf1e.jpg: 128x128 overripe 0.47, rotten 0.18, ripe 0.18, unripe 0.18, 3.7ms\n",
            "image 108/113 /content/datasets/Banana-Ripeness-Classification-4/test/overripe/musa-acuminata-overripe-a159809e-1d0a-11ec-a7d6-d8c4975e38aa_jpg.rf.08562f2eeddb0b45572cd5bc593fc3c1.jpg: 128x128 overripe 0.47, rotten 0.18, ripe 0.18, unripe 0.18, 3.6ms\n",
            "image 109/113 /content/datasets/Banana-Ripeness-Classification-4/test/overripe/musa-acuminata-overripe-a173b851-1d0a-11ec-a271-d8c4975e38aa_jpg.rf.4ec5b4287d6dd194563b8ae166818791.jpg: 128x128 overripe 0.47, rotten 0.18, ripe 0.18, unripe 0.18, 3.5ms\n",
            "image 110/113 /content/datasets/Banana-Ripeness-Classification-4/test/overripe/musa-acuminata-overripe-a18df166-1d0a-11ec-b3d9-d8c4975e38aa_jpg.rf.341bd3fbab1e50767bd5d8ee0caa3c3e.jpg: 128x128 overripe 0.45, rotten 0.20, unripe 0.18, ripe 0.18, 7.1ms\n",
            "image 111/113 /content/datasets/Banana-Ripeness-Classification-4/test/overripe/musa-acuminata-overripe-a192b469-1d0a-11ec-8e92-d8c4975e38aa_jpg.rf.f496d3da695c7c35cc2232c6399b52bd.jpg: 128x128 overripe 0.47, rotten 0.18, unripe 0.18, ripe 0.18, 3.8ms\n",
            "image 112/113 /content/datasets/Banana-Ripeness-Classification-4/test/overripe/musa-acuminata-overripe-a1aa89e1-1d0a-11ec-a231-d8c4975e38aa_jpg.rf.e3f09e08b1e7138ef31add1bed24f389.jpg: 128x128 overripe 0.47, rotten 0.18, unripe 0.18, ripe 0.18, 3.7ms\n",
            "image 113/113 /content/datasets/Banana-Ripeness-Classification-4/test/overripe/musa-acuminata-overripe-a1bd9b24-1d0a-11ec-bf58-d8c4975e38aa_jpg.rf.98f8d5585071b7c4ec0f778a7d90e9dc.jpg: 128x128 overripe 0.47, rotten 0.18, unripe 0.18, ripe 0.18, 3.7ms\n",
            "Speed: 0.1ms pre-process, 3.5ms inference, 0.1ms postprocess per image at shape (1, 3, 640, 640)\n",
            "Results saved to \u001b[1mruns/classify/predict2\u001b[0m\n"
          ]
        }
      ],
      "source": [
        "%cd {HOME}\n",
        "!yolo task=classify mode=predict model={HOME}/runs/classify/train/weights/best.pt conf=0.25 source={dataset.location}/test/overripe"
      ]
    }
  ],
  "metadata": {
    "accelerator": "GPU",
    "colab": {
      "provenance": [],
      "include_colab_link": true
    },
    "gpuClass": "standard",
    "kernelspec": {
      "display_name": "Python 3",
      "name": "python3"
    },
    "language_info": {
      "name": "python"
    }
  },
  "nbformat": 4,
  "nbformat_minor": 0
}