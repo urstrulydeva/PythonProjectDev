{
  "nbformat": 4,
  "nbformat_minor": 0,
  "metadata": {
    "colab": {
      "provenance": [],
      "mount_file_id": "1nowTQn9iOqFxoKVKIcdu876D1ITP8lGX",
      "authorship_tag": "ABX9TyPHPEsa1SKD3qPGoVEYNtQ4",
      "include_colab_link": true
    },
    "kernelspec": {
      "name": "python3",
      "display_name": "Python 3"
    },
    "language_info": {
      "name": "python"
    }
  },
  "cells": [
    {
      "cell_type": "markdown",
      "metadata": {
        "id": "view-in-github",
        "colab_type": "text"
      },
      "source": [
        "<a href=\"https://colab.research.google.com/github/urstrulydeva/PythonProjectDev/blob/main/PythonMiniProject.ipynb\" target=\"_parent\"><img src=\"https://colab.research.google.com/assets/colab-badge.svg\" alt=\"Open In Colab\"/></a>"
      ]
    },
    {
      "cell_type": "code",
      "execution_count": 10,
      "metadata": {
        "id": "7nrs7Bpze_C-"
      },
      "outputs": [],
      "source": [
        "import torch\n",
        "import torch.nn as nn\n",
        "import torchvision\n",
        "import numpy as np\n",
        "\n",
        "# header files needed\n",
        "import numpy as np\n",
        "import torch\n",
        "import torch.nn as nn\n",
        "import torchvision\n",
        "from torch.utils.tensorboard import SummaryWriter"
      ]
    },
    {
      "cell_type": "code",
      "source": [
        "from google.colab import drive\n",
        "drive.mount('/content/drive')"
      ],
      "metadata": {
        "colab": {
          "base_uri": "https://localhost:8080/"
        },
        "id": "u0ZusQPifAth",
        "outputId": "c3d0128b-22c7-4d50-d47a-85105f7443fd"
      },
      "execution_count": null,
      "outputs": [
        {
          "output_type": "stream",
          "name": "stdout",
          "text": [
            "Drive already mounted at /content/drive; to attempt to forcibly remount, call drive.mount(\"/content/drive\", force_remount=True).\n"
          ]
        }
      ]
    },
    {
      "cell_type": "code",
      "source": [
        "import torch\n",
        "import torch.nn as nn\n",
        "import torch.optim as optim\n",
        "import torchvision.transforms as transforms\n",
        "import torchvision.datasets as datasets\n",
        "from torch.utils.data import DataLoader"
      ],
      "metadata": {
        "id": "HAbAmmgqfEHo"
      },
      "execution_count": null,
      "outputs": []
    },
    {
      "cell_type": "code",
      "source": [
        "class InceptionBlock(nn.Module):\n",
        "    def _init_(self, in_channels, out1x1, red3x3, out3x3, red5x5, out5x5, maxpool3x3):\n",
        "        super(InceptionBlock, self)._init_()\n",
        "\n",
        "        self.branch1 = ConvBlock(in_channels, out1x1, kernel_size=1)\n",
        "\n",
        "        self.branch2 = nn.Sequential(\n",
        "            ConvBlock(in_channels, red3x3, kernel_size=1),\n",
        "            ConvBlock(red3x3, out3x3, kernel_size=3, padding=1)\n",
        "        )\n",
        "\n",
        "        self.branch3 = nn.Sequential(\n",
        "            ConvBlock(in_channels, red5x5, kernel_size=1),\n",
        "            ConvBlock(red5x5, out5x5, kernel_size=5, padding=2)\n",
        "        )\n",
        "\n",
        "        self.branch4 = nn.Sequential(\n",
        "            nn.MaxPool2d(kernel_size=3, stride=1, padding=1),\n",
        "            ConvBlock(in_channels, maxpool3x3, kernel_size=1)\n",
        "        )\n",
        "\n",
        "    def forward(self, x):\n",
        "        return torch.cat([self.branch1(x), self.branch2(x), self.branch3(x), self.branch4(x)], 1)"
      ],
      "metadata": {
        "id": "2UDU62wSfG4I"
      },
      "execution_count": null,
      "outputs": []
    },
    {
      "cell_type": "code",
      "source": [
        "class ConvBlock(nn.Module):\n",
        "    def _init_(self, in_channels, out_channels, **kwargs):\n",
        "        super(ConvBlock, self)._init_()\n",
        "        self.conv = nn.Conv2d(in_channels, out_channels, **kwargs)\n",
        "        self.relu = nn.ReLU()\n",
        "        self.batchNorm = nn.BatchNorm2d(out_channels)\n",
        "\n",
        "    def forward(self, x):\n",
        "        return self.relu(self.batchNorm(self.conv(x)))"
      ],
      "metadata": {
        "id": "Fo6dl4-vfKCD"
      },
      "execution_count": null,
      "outputs": []
    },
    {
      "cell_type": "code",
      "source": [
        "class ResNet50Net(nn.Module):\n",
        "    def _init_(self, num_classes=26):\n",
        "        super(ResNet50Net, self)._init_()\n",
        "        resnet = models.resnet50(pretrained=True)  # Load the pre-trained ResNet-50 model\n",
        "        self.features = nn.Sequential(*list(resnet.children())[:-1])  # Remove the last fully connected layer\n",
        "        self.avgpool = nn.AdaptiveAvgPool2d((1, 1))  # Adapt the spatial dimensions before the fully connected layer\n",
        "        self.fc = nn.Linear(2048, num_classes)  # Update the input size to match the flattened feature map\n",
        "\n",
        "    def forward(self, x):\n",
        "        x = self.features(x)\n",
        "        x = self.avgpool(x)\n",
        "        x = x.view(x.size(0), -1)\n",
        "\n",
        "        print(\"After flattening:\", x.shape)  # Add this print statement\n",
        "\n",
        "        x = self.fc(x)\n",
        "        return x"
      ],
      "metadata": {
        "id": "B6LlbdGYfM3a"
      },
      "execution_count": null,
      "outputs": []
    },
    {
      "cell_type": "code",
      "source": [
        "import torchvision.models as models"
      ],
      "metadata": {
        "id": "z4iykNcMfRFZ"
      },
      "execution_count": null,
      "outputs": []
    },
    {
      "cell_type": "code",
      "source": [],
      "metadata": {
        "id": "e9AHIugfkDO4"
      },
      "execution_count": null,
      "outputs": []
    },
    {
      "cell_type": "code",
      "source": [
        "if __name__ == '__main__':\n",
        "    # Initialize InceptionNet model\n",
        "    device = 'cuda' if torch.cuda.is_available() else 'cpu'\n",
        "    num_classes = 6\n",
        "    model = models.resnet50(pretrained=True)  # You can use a pretrained ResNet model\n",
        "    num_ftrs = model.fc.in_features\n",
        "    model.fc = torch.nn.Linear(num_ftrs, num_classes)  # Replace the final fully connected layer\n",
        "    model = model.to(device)"
      ],
      "metadata": {
        "id": "-SUTmxQ5fTwy"
      },
      "execution_count": 50,
      "outputs": []
    },
    {
      "cell_type": "code",
      "source": [
        "transform = transforms.Compose([\n",
        "        transforms.Resize((299, 299)),\n",
        "        transforms.ToTensor(),\n",
        "        transforms.Normalize(mean=[0.485, 0.456, 0.406], std=[0.229, 0.224, 0.225]),\n",
        "    ])"
      ],
      "metadata": {
        "id": "y735kPw7fV9I"
      },
      "execution_count": 52,
      "outputs": []
    },
    {
      "cell_type": "code",
      "source": [
        "train_data = datasets.ImageFolder(\"/content/drive/My Drive/Trainingdata_final/\", transform=transform)\n",
        "val_data = datasets.ImageFolder(\"/content/drive/My Drive/Validationdata/\", transform=transform)"
      ],
      "metadata": {
        "id": "QePbuWx4fZ6T"
      },
      "execution_count": 53,
      "outputs": []
    },
    {
      "cell_type": "code",
      "source": [
        "val_loader = DataLoader(val_data, batch_size=64, shuffle=False)\n",
        "train_loader=DataLoader(train_data, batch_size=64,shuffle=False)"
      ],
      "metadata": {
        "id": "YdvRV3qofdoA"
      },
      "execution_count": 54,
      "outputs": []
    },
    {
      "cell_type": "code",
      "source": [
        "for inputs, labels in train_loader:\n",
        "    print(\"Training data shape:\", inputs.shape)\n",
        "    print(\"Training label shape:\", labels.shape)\n",
        "    break\n",
        "\n",
        "for inputs, labels in val_loader:\n",
        "    print(\"Validation data shape:\", inputs.shape)\n",
        "    print(\"Validation label shape:\", labels.shape)\n",
        "    break"
      ],
      "metadata": {
        "id": "t2A4zpE5fgPV",
        "colab": {
          "base_uri": "https://localhost:8080/"
        },
        "outputId": "7b42476b-73d4-45f8-db15-5af8138d9146"
      },
      "execution_count": 55,
      "outputs": [
        {
          "output_type": "stream",
          "name": "stdout",
          "text": [
            "Training data shape: torch.Size([64, 3, 299, 299])\n",
            "Training label shape: torch.Size([64])\n",
            "Validation data shape: torch.Size([64, 3, 299, 299])\n",
            "Validation label shape: torch.Size([64])\n"
          ]
        }
      ]
    },
    {
      "cell_type": "code",
      "source": [
        "criterion = nn.CrossEntropyLoss()\n",
        "optimizer = torch.optim.Adam(model.parameters(num_classes), lr=0.001)"
      ],
      "metadata": {
        "id": "10krQDAYfjLk"
      },
      "execution_count": 56,
      "outputs": []
    },
    {
      "cell_type": "code",
      "source": [
        "for inputs, labels in train_loader:\n",
        "    print(inputs.shape)\n",
        "    break  # Print the shape of the first batch only"
      ],
      "metadata": {
        "id": "YoDo5D2Rfl1Z",
        "colab": {
          "base_uri": "https://localhost:8080/"
        },
        "outputId": "23f8a30c-460d-48c6-e4a6-8869b1c1736b"
      },
      "execution_count": 57,
      "outputs": [
        {
          "output_type": "stream",
          "name": "stdout",
          "text": [
            "torch.Size([64, 3, 299, 299])\n"
          ]
        }
      ]
    },
    {
      "cell_type": "code",
      "source": [
        "# Training loop\n",
        "num_epochs = 10 # Modify this to the desired number of epochs\n",
        "for epoch in range(num_epochs):\n",
        "        model.train()\n",
        "        train_loss = 0.0\n",
        "        for inputs, labels in train_loader:\n",
        "            inputs, labels = inputs.to(device), labels.to(device)\n",
        "            optimizer.zero_grad()\n",
        "            outputs = model(inputs)\n",
        "            loss = criterion(outputs, labels)\n",
        "            loss.backward()\n",
        "            optimizer.step()\n",
        "            train_loss += loss.item() * inputs.size(0)\n",
        "\n",
        "        model.eval()\n",
        "        val_loss = 0.0\n",
        "        corrects = 0\n",
        "        total = 0\n",
        "        with torch.no_grad():\n",
        "            for inputs, labels in val_loader:\n",
        "                inputs, labels = inputs.to(device), labels.to(device)\n",
        "                outputs = model(inputs)\n",
        "                loss = criterion(outputs, labels)\n",
        "                val_loss += loss.item() * inputs.size(0)\n",
        "                _, predicted = torch.max(outputs, 1)\n",
        "                total += labels.size(0)\n",
        "                corrects += (predicted == labels).sum().item()\n",
        "\n",
        "        epoch_loss = train_loss / len(train_data)\n",
        "        epoch_val_loss = val_loss / len(val_data)\n",
        "        accuracy = 100.0 * corrects / total\n",
        "        print(f\"Epoch {epoch+1}/{num_epochs}, Loss: {epoch_loss:.4f}, Val Loss: {epoch_val_loss:.4f}, Accuracy: {accuracy:.2f}%\")\n",
        "\n",
        "    # Save the trained model\n",
        "torch.save(model.state_dict(), \"/content/drive/My Drive/inceptionmodel/Resnet_save_model.pt\")\n",
        "print(\"The model is saved at /content/drive/My Drive/inceptionmodel/save_model.pt \")"
      ],
      "metadata": {
        "id": "nFrP2bF-foWv",
        "colab": {
          "base_uri": "https://localhost:8080/",
          "height": 245
        },
        "outputId": "6afbc33c-6d98-4805-85ab-dfacec7e20a2"
      },
      "execution_count": 1,
      "outputs": [
        {
          "output_type": "error",
          "ename": "NameError",
          "evalue": "ignored",
          "traceback": [
            "\u001b[0;31m---------------------------------------------------------------------------\u001b[0m",
            "\u001b[0;31mNameError\u001b[0m                                 Traceback (most recent call last)",
            "\u001b[0;32m<ipython-input-1-7dc121e46516>\u001b[0m in \u001b[0;36m<cell line: 3>\u001b[0;34m()\u001b[0m\n\u001b[1;32m      2\u001b[0m \u001b[0mnum_epochs\u001b[0m \u001b[0;34m=\u001b[0m \u001b[0;36m10\u001b[0m \u001b[0;31m# Modify this to the desired number of epochs\u001b[0m\u001b[0;34m\u001b[0m\u001b[0;34m\u001b[0m\u001b[0m\n\u001b[1;32m      3\u001b[0m \u001b[0;32mfor\u001b[0m \u001b[0mepoch\u001b[0m \u001b[0;32min\u001b[0m \u001b[0mrange\u001b[0m\u001b[0;34m(\u001b[0m\u001b[0mnum_epochs\u001b[0m\u001b[0;34m)\u001b[0m\u001b[0;34m:\u001b[0m\u001b[0;34m\u001b[0m\u001b[0;34m\u001b[0m\u001b[0m\n\u001b[0;32m----> 4\u001b[0;31m         \u001b[0mmodel\u001b[0m\u001b[0;34m.\u001b[0m\u001b[0mtrain\u001b[0m\u001b[0;34m(\u001b[0m\u001b[0;34m)\u001b[0m\u001b[0;34m\u001b[0m\u001b[0;34m\u001b[0m\u001b[0m\n\u001b[0m\u001b[1;32m      5\u001b[0m         \u001b[0mtrain_loss\u001b[0m \u001b[0;34m=\u001b[0m \u001b[0;36m0.0\u001b[0m\u001b[0;34m\u001b[0m\u001b[0;34m\u001b[0m\u001b[0m\n\u001b[1;32m      6\u001b[0m         \u001b[0;32mfor\u001b[0m \u001b[0minputs\u001b[0m\u001b[0;34m,\u001b[0m \u001b[0mlabels\u001b[0m \u001b[0;32min\u001b[0m \u001b[0mtrain_loader\u001b[0m\u001b[0;34m:\u001b[0m\u001b[0;34m\u001b[0m\u001b[0;34m\u001b[0m\u001b[0m\n",
            "\u001b[0;31mNameError\u001b[0m: name 'model' is not defined"
          ]
        }
      ]
    },
    {
      "cell_type": "code",
      "source": [
        "import torch\n",
        "import torch.nn as nn\n",
        "import torchvision.transforms as transforms\n",
        "import torchvision.datasets as datasets\n",
        "from torch.utils.data import DataLoader\n",
        "import matplotlib.pyplot as plt\n",
        "\n",
        "# Step 1: Load the model\n",
        "device = 'cuda' if torch.cuda.is_available() else 'cpu'\n",
        "model = ResNet50Net(num_classes=6).to(device)\n",
        "model.load_state_dict(torch.load(\"/content/drive/My Drive/inceptionmodel/Resnet_save_model.pt\"))\n",
        "model.eval()  # Set the model to evaluation mode\n",
        "\n",
        "# Step 2: Prepare the test data\n",
        "test_transform = transforms.Compose([\n",
        "    transforms.Resize((299, 299)),\n",
        "    transforms.ToTensor(),\n",
        "    transforms.Normalize(mean=[0.485, 0.456, 0.406], std=[0.229, 0.224, 0.225]),\n",
        "])\n",
        "\n",
        "test_data = datasets.ImageFolder(\"/content/drive/My Drive/Testingdata\", transform=test_transform)\n",
        "test_loader = DataLoader(test_data, batch_size=1, shuffle=False)\n",
        "\n",
        "# Step 3: Test the model\n",
        "correct = 0\n",
        "total = 0\n",
        "\n",
        "with torch.no_grad():\n",
        "    for images, labels in test_loader:\n",
        "        images, labels = images.to(device), labels.to(device)\n",
        "        outputs = model(images)\n",
        "        _, predicted = torch.max(outputs, 1)\n",
        "        total += labels.size(0)\n",
        "        correct += (predicted == labels).sum().item()\n",
        "        # Visualize the images along with their predicted labels\n",
        "        for i in range(images.size(0)):\n",
        "            image = images[i].cpu().numpy().transpose(1, 2, 0)  # Convert to (H, W, C) format\n",
        "            plt.imshow(image)\n",
        "            plt.title(f\"Predicted Label: {predicted[i].item()}, True Label: {labels[i].item()}\")\n",
        "            plt.show()\n",
        "\n",
        "accuracy = 100.0 * correct / total\n",
        "print(f\"Test Accuracy: {accuracy:.2f}%\")"
      ],
      "metadata": {
        "id": "Qd-t3bJQfrHi"
      },
      "execution_count": null,
      "outputs": []
    },
    {
      "cell_type": "code",
      "source": [
        "import torch\n",
        "import torch.nn as nn\n",
        "import torchvision.transforms as transforms\n",
        "import torchvision.datasets as datasets\n",
        "from torch.utils.data import DataLoader\n",
        "from sklearn.metrics import confusion_matrix\n",
        "import matplotlib.pyplot as plt\n",
        "import seaborn as sns\n",
        "\n",
        "# Assuming you have already loaded and defined your model and test data\n",
        "# If not, you can load the model and test data similar to the training data\n",
        "\n",
        "# Define the test data loader (assuming you have a variable named test_data containing the test dataset)\n",
        "batch_size = 1  # Set the batch size to 1 for getting predictions for each individual sample\n",
        "test_loader = DataLoader(test_data, batch_size=batch_size, shuffle=False)\n",
        "\n",
        "# Set the model in evaluation mode\n",
        "model.eval()\n",
        "\n",
        "# Initialize lists to store true labels and predicted labels\n",
        "true_labels = []\n",
        "predicted_labels = []\n",
        "\n",
        "# Iterate through the test data and make predictions\n",
        "with torch.no_grad():\n",
        "    for inputs, labels in test_loader:\n",
        "        inputs = inputs.to(device)  # Move data to GPU if available\n",
        "        labels = labels.to(device)\n",
        "\n",
        "        outputs = model(inputs)\n",
        "        _, predicted = torch.max(outputs, 1)\n",
        "\n",
        "        true_labels.extend(labels.cpu().numpy())\n",
        "        predicted_labels.extend(predicted.cpu().numpy())\n",
        "\n",
        "# Calculate the confusion matrix\n",
        "conf_matrix = confusion_matrix(true_labels, predicted_labels)\n",
        "\n",
        "# Plot the confusion matrix as a colorful image\n",
        "plt.figure(figsize=(10, 8))\n",
        "sns.heatmap(conf_matrix, annot=True, fmt=\"d\", cmap=\"Blues\")\n",
        "plt.xlabel(\"Predicted Labels\")\n",
        "plt.ylabel(\"True Labels\")\n",
        "plt.title(\"Confusion Matrix\")\n",
        "plt.show()"
      ],
      "metadata": {
        "id": "pTNLK5y_fuYi"
      },
      "execution_count": null,
      "outputs": []
    }
  ]
}